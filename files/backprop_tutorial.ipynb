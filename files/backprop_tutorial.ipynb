{
 "cells": [
  {
   "cell_type": "code",
   "execution_count": 1,
   "id": "765d0c7e",
   "metadata": {},
   "outputs": [],
   "source": [
    "import torch\n",
    "import numpy as np"
   ]
  },
  {
   "cell_type": "markdown",
   "id": "4dd84e90",
   "metadata": {},
   "source": [
    "In this post, we will go through an exercise involving backpropagation for a fully connected feed-forward neural network. Though simple, I observe that a lot of \"Introduction to Machine Learning\" courses don't tend to explain this example thoroughly enough. In fact, a common way students are taught about optimizing a neural network is that the gradients can be calculated using an algorithm called *backpropagation* (a.k.a. the chain rule), and the parameters are updated using gradient descent. However, the chain rule, apart from its formula, is typically swept under the rug and replaced by a \"black box\" operation called *autograd*.\n",
    "\n",
    "I think being able to implement backpropagation, at least in the simplest case, is quite important for its conceptual understanding. Hopefully this will benefit the students who stumble upon this page after a while of searching for \"How to implement backprop.\""
   ]
  },
  {
   "cell_type": "markdown",
   "id": "8a542b02",
   "metadata": {},
   "source": [
    "## The Exercise\n",
    "\n",
    "Below is a simple fully connected neural network.\n",
    "\n",
    "<p align=\"left\">\n",
    "    <img src=\"https://joshnguyen.net/files/backprop_nn_example.svg\" title=\"Simple neural network\" width=\"700px\">\n",
    "</p>"
   ]
  },
  {
   "cell_type": "markdown",
   "id": "c983b421",
   "metadata": {},
   "source": [
    "Let's decompose this architecture:\n",
    "- The first layer has 5 neurons. This network accepts inputs that are 5-dimensional.\n",
    "- The final layer has 1 neuron. It represents the loss function, which is a scalar.\n",
    "- The second-last layer, which has 12 neurons, is actually typically called the last layer. If this layer is followed by softmax, you can think of this network as a 12-class classifier.\n",
    "- There are two hidden layers, one with 10 neurons and the other with 4.\n",
    "\n",
    "Here's the computation in a forward pass through this network:\n",
    "1. Start with the input, which is 5-dimensional.\n",
    "2. Compute the first hidden output:\n",
    "- Apply a linear transformation: $t_0 = W_0 x$\n",
    "- Apply a non-linear activation: $z_0 = \\tanh(t_0)$, where we $\\tanh$ to every element of $t_0$\n",
    "3. Compute the second hidden output:\n",
    "- Apply a linear transformation: $t_1 = W_1 z_0$\n",
    "- Apply a non-linear activation: $z_1 = \\sigma(t_1)$, element-wise as well\n",
    "4. Compute the second-last layer (classification output)\n",
    "- Apply a linear transformation: $t_2 = W_2 z_1$\n",
    "- No activation: $z_2 = \\text{Id}(t_2)$\n",
    "5. Compute the loss\n",
    "- $\\ell = \\frac{1}{2} \\lVert z_2 \\rVert^2 = \\frac{1}{2} \\sum_{i} [z_2]_i^2$\n",
    "\n",
    "Note that the dimensions of $W_0$, $W_1$ and $W_2$ are $10 \\times 5$, $4 \\times 10$ and $12 \\times 4$, respectively.\n",
    "\n",
    "There is nothing special about choosing $\\tanh$ and $\\sigma$ (sigmoid) as the activation functions in steps 2 and 3; we can simply choose others such as ReLU. Likewise, we can use an activation function in Step 4 as well.\n",
    "\n",
    "Now our job is to find the gradient of $\\ell$ with respect to the model parameters, that is, $\\nabla_{W_0}\\ell, \\nabla_{W_1} \\ell$ and $\\nabla_{W_2}\\ell$.\n",
    "\n",
    "First, let's define our network in `numpy`. To make things a bit easier, we will define a few resuable classes."
   ]
  },
  {
   "cell_type": "markdown",
   "id": "daf2a9b8",
   "metadata": {},
   "source": [
    "### Tensor\n",
    "\n",
    "The first class we define is a tensor. It is basically a `numpy` array with a gradient, which is an array of the same size storing its gradient. The array is stored in `.data` and its gradient in `.grad`."
   ]
  },
  {
   "cell_type": "code",
   "execution_count": 2,
   "id": "3ec02847",
   "metadata": {},
   "outputs": [],
   "source": [
    "class Tensor:\n",
    "    def __init__(self, arr, name=None):\n",
    "        self.data = arr\n",
    "        self.grad = None\n",
    "        # Optionally store the name of this tensor\n",
    "        self.name = name"
   ]
  },
  {
   "cell_type": "markdown",
   "id": "044618d3",
   "metadata": {},
   "source": [
    "### Activation functions\n",
    "\n",
    "Activation functions are functions that will be applied element-wise to tensors. For example, $z_0 = \\tanh(t_0)$ means that $z_0$ and $t_0$ have the same dimensions, and every element in $z_0$ is the hyperbolic tangent transformation of the corresponding element in $t_0$.\n",
    "\n",
    "We will have a base class called `Activation`, which implements two methods:\n",
    "- `__call__` will be apply the function to an input.\n",
    "- `grad` will apply the gradient function to an input."
   ]
  },
  {
   "cell_type": "code",
   "execution_count": 3,
   "id": "8019dc35",
   "metadata": {},
   "outputs": [],
   "source": [
    "class Activation:\n",
    "    def __call__(self, x):\n",
    "        pass\n",
    "    def grad(self, x):\n",
    "        pass"
   ]
  },
  {
   "cell_type": "markdown",
   "id": "c578ca47",
   "metadata": {},
   "source": [
    "Let's implement the $\\tanh$ activation function. We can simply use `np.tanh` for the forward pass. The derivative of this function is\n",
    "$$\n",
    "\\begin{align*}\n",
    "\\tanh'(x) = 1 - \\tanh^2(x).\n",
    "\\end{align*}\n",
    "$$"
   ]
  },
  {
   "cell_type": "code",
   "execution_count": 4,
   "id": "b9ba4515",
   "metadata": {},
   "outputs": [],
   "source": [
    "class Tanh(Activation):\n",
    "    def __call__(self, x):\n",
    "        return np.tanh(x)\n",
    "    def grad(self, x):\n",
    "        return 1 - np.tanh(x) ** 2"
   ]
  },
  {
   "cell_type": "markdown",
   "id": "3a93e643",
   "metadata": {},
   "source": [
    "Similarly, we can implement the sigmoid function based on its formulas:\n",
    "$$\n",
    "\\begin{align*}\n",
    "\\sigma(x) &= \\frac{1}{1 + e^{-x}}\\\\\n",
    "\\sigma'(x) &= \\sigma(x) (1 - \\sigma(x)).\n",
    "\\end{align*}\n",
    "$$"
   ]
  },
  {
   "cell_type": "code",
   "execution_count": 5,
   "id": "501bc612",
   "metadata": {},
   "outputs": [],
   "source": [
    "class Sigmoid(Activation):\n",
    "    def __call__(self, x):\n",
    "        return np.exp(x) / (1 + np.exp(x))\n",
    "    def grad(self, x):\n",
    "        sx = self(x)\n",
    "        return sx * (1 - sx)"
   ]
  },
  {
   "cell_type": "markdown",
   "id": "b02c875c",
   "metadata": {},
   "source": [
    "Another function we used above is the identity function, which simply returns the input. Its derivative is $1$."
   ]
  },
  {
   "cell_type": "code",
   "execution_count": 6,
   "id": "eb53605a",
   "metadata": {},
   "outputs": [],
   "source": [
    "class Identity(Activation):\n",
    "    def __call__(self, x):\n",
    "        return x\n",
    "    def grad(self, x):\n",
    "        return np.ones_like(x)"
   ]
  },
  {
   "cell_type": "markdown",
   "id": "2834dd41",
   "metadata": {},
   "source": [
    "### Loss function\n",
    "\n",
    "A loss function takes an input vector and returns a scalar (number). We will also implement the `grad` method for this function, `grad` should return a vector that is of the same shape as the input.\n",
    "\n",
    "The example loss function above is simply (half) squared norm, which simply squares every element of the input, sums them together, and divides the result by two. Calculus tells us that the gradient of such a function is the input itself."
   ]
  },
  {
   "cell_type": "code",
   "execution_count": 7,
   "id": "92ffbf74",
   "metadata": {},
   "outputs": [],
   "source": [
    "class HalfSumSq:\n",
    "    def __call__(self, x):\n",
    "        return 0.5 * np.sum(x ** 2)\n",
    "    def grad(self, x):\n",
    "        return x"
   ]
  },
  {
   "cell_type": "markdown",
   "id": "270715d0",
   "metadata": {},
   "source": [
    "## Network and Forward Propagation\n",
    "\n",
    "Now we are ready to put things together and create our neural net. For the sake of simplicity, we will only define one additional method for our class, which is `loss_and_grad`. It will (1) take an input x and perform a forward pass to get the loss, and (2) perform a backward pass to calculate the gradient of the loss with respect to its parameters.\n",
    "\n",
    "As I have explained the forward pass above, we are able define the most part of our network."
   ]
  },
  {
   "cell_type": "code",
   "execution_count": 8,
   "id": "07159464",
   "metadata": {},
   "outputs": [],
   "source": [
    "class Net:\n",
    "    def __init__(self):\n",
    "        # Weight matrices. We will initialize them randomly\n",
    "        self.weights = [Tensor(np.random.randn(output_dim, input_dim))\n",
    "                        for input_dim, output_dim in [(5, 10), (10, 4), (4, 12)]]\n",
    "        \n",
    "        # Register t_0, t_1,... The default value (np.zeros) doesn't matter, as we\n",
    "        # populate them in the forward pass later.\n",
    "        self.linear_outputs = [Tensor(np.zeros(dim, dtype=float)) for dim in (10, 4, 12)]\n",
    "        \n",
    "        # Register z_0, z_1,... similarly\n",
    "        self.nonlinear_outputs = [Tensor(np.zeros(dim, dtype=float)) for dim in (10, 4, 12)]\n",
    "        \n",
    "        # Activation and loss functions\n",
    "        self.activations = [Tanh(), Sigmoid(), Identity()]\n",
    "        self.loss = HalfSumSq()\n",
    "\n",
    "    def loss_and_grad(self, x):\n",
    "        curr_output = Tensor(x)\n",
    "        # Forward prop\n",
    "        for i in range(len(self.nonlinear_outputs)):\n",
    "            # Linear transformation\n",
    "            self.linear_outputs[i].data = self.weights[i].data @ curr_output.data\n",
    "            curr_output = self.linear_outputs[i]\n",
    "            \n",
    "            # Activation function\n",
    "            self.nonlinear_outputs[i].data = self.activations[i](curr_output.data)\n",
    "            curr_output = self.nonlinear_outputs[i]\n",
    "\n",
    "        # Loss function\n",
    "        l = self.loss(curr_output.data)\n",
    "        \n",
    "        # We will implement backprop later\n",
    "        # TODO: backprop\n",
    "        \n",
    "        return l"
   ]
  },
  {
   "cell_type": "markdown",
   "id": "37840b61",
   "metadata": {},
   "source": [
    "## Backpropagation"
   ]
  },
  {
   "cell_type": "markdown",
   "id": "d2fb220c",
   "metadata": {},
   "source": [
    "The forward propagation above creates a *computation graph*, which shows us the flow of signals from input to output. To find the gradients, we need to traverse this graph *backwards*, that is, from output to input, hence the name.\n",
    "\n",
    "Recall that this is an application of the chain rule in multivariate calculus. Suppose we have a scalar function $h(v) = (f \\circ g)(v) = f(g(v))$. To find the gradient of $h$ with respect to $v$, we follow the chain rule\n",
    "$$\n",
    "\\begin{align*}\n",
    "J_{h}(v) = J_{f \\circ g} (v) = J_{f}(g(v)) J_{g}(v),\n",
    "\\end{align*}\n",
    "$$\n",
    "where $J$ denotes the *Jacobian*, which is a matrix of partial derivatives. Since $h$ is a scalar function, $J_{h}(v)$ is a row vector. Transposing it will give us the gradient with respect to $v$.\n",
    "\n",
    "The computation of $h$ looks familiar. First, we have an input $v$. Then transform $v$ to another (vector of scalar) value $g(v)$. Then use $g(v)$ as the input to $f$. The chain rules says that to find the gradient for $v$, we first need to go backwards: differentiate $f$ with respect to $g(v)$ first, then differentiate g with respect to $v$, then multiply them together."
   ]
  },
  {
   "cell_type": "markdown",
   "id": "819157c8",
   "metadata": {},
   "source": [
    "### In our neural network example\n",
    "\n",
    "Back to our example. As we have seen, the order of computation in a forward propagation is\n",
    "\n",
    "$$\n",
    "\\begin{align*}\n",
    "x \\rightarrow t_0 \\rightarrow z_0 \\rightarrow t_1 \\rightarrow z_1 \\rightarrow t_2 \\rightarrow z_2 \\rightarrow \\ell.\n",
    "\\end{align*}\n",
    "$$\n",
    "\n",
    "It should be clear to us now that finding gradients means we have to traverse the network backwards. Start from the loss $\\ell$. Differentiate that with respect to $z_2$. Then with respect to $t_2$. Then with repect to $z_1$. And so on.\n",
    "\n",
    "We actually don't want these gradients. What we actually want is the gradient with respect to $W_0, W_1$ and $W_2$, which are the matrices that transform a $z$ in one layer to a $t$ the next layer. However, in calculating these gradients, the chain rule requires us to compute the above intermediate gradients as well.\n",
    "\n",
    "Below is a step-by-step procedure of backpropagation."
   ]
  },
  {
   "cell_type": "markdown",
   "id": "87673f14",
   "metadata": {},
   "source": [
    "### Gradients for $z_2$ and $t_2$\n",
    "\n",
    "First, let's start with $z_2$, the most immediate signal. Since we're using the half sum of squares loss, the gradient is just $z_2$ itself:\n",
    "$$\n",
    "\\begin{align*}\n",
    "\\nabla_{z_2} \\ell = z_2.\n",
    "\\end{align*}\n",
    "$$\n",
    "\n",
    "Now to $t_2$. Since $z_2$ is an element-wise identity transformation of of $t_2$, using the chain rule we have\n",
    "$$\n",
    "\\begin{align*}\n",
    "\\nabla_{t_2} \\ell = \\nabla_{z_2} \\ell \\odot \\text{Id}'(t_2),\n",
    "\\end{align*}\n",
    "$$\n",
    "where $\\odot$ denotes element-wise multiplication. The reason why we have an element-wise multiplication here is that the Jacobian of $z_2$ with respect to $t_2$ is a diagonal matrix, $\\text{diag}(\\text{Id}'(t_2))$, and multiplying $J_\\ell(z_2)$ with this matrix is the same as performing an element-wise product."
   ]
  },
  {
   "cell_type": "markdown",
   "id": "2cb556b7",
   "metadata": {},
   "source": [
    "### Gradients for $z_1$, $W_2$, and $t_1$\n",
    "\n",
    "Now let's move back one layer. Recall that\n",
    "$$\n",
    "\\begin{align*}\n",
    "t_2 = W_2 z_1.\n",
    "\\end{align*}\n",
    "$$\n",
    "\n",
    "We need to find the gradient for both $z_1$ and $W_2$. First, since this is a linear operation, differentiating $t_2$ with respect to $z_1$ will simply give us $W_2$. Using the chain rule again, we have\n",
    "$$\n",
    "\\begin{align*}\n",
    "\\nabla_{z_1} \\ell = W_2^\\top  (\\nabla_{t_2} \\ell).\n",
    "\\end{align*}\n",
    "$$\n",
    "\n",
    "Now to $W_2$. Applying the chain rule, we have\n",
    "$$\n",
    "\\begin{align*}\n",
    "\\nabla_{W_2} \\ell = (\\nabla_{t_2} \\ell) z_1^\\top.\n",
    "\\end{align*}\n",
    "$$\n",
    "Note that this is an outer product.\n",
    "\n",
    "\n",
    "In both updates of $z_1$ and $W_2$, we used $\\nabla_{t_2} \\ell$ from the previous step. This is why the previou gradient signal needs to be stored for backpropagation, and why we need to calculate the gradient for variables we're not interested in (remember, we only need the gradients for $W$).\n",
    "\n",
    "Finally to $t_1$. Since $z_1$ is an element-wise sigmoid transformation of $t_1$, we apply the same formula as that for $t_2$, this time replacing $\\tanh$ with $\\sigma$:\n",
    "$$\n",
    "\\begin{align*}\n",
    "\\nabla_{t_1} \\ell = \\nabla_{z_1} \\ell \\odot \\sigma'(t_2).\n",
    "\\end{align*}\n",
    "$$"
   ]
  },
  {
   "cell_type": "markdown",
   "id": "f3d4d69c",
   "metadata": {},
   "source": [
    "### Remaining gradients\n",
    "\n",
    "There is no need to repeat ourselves when finding the gradients for the rest of the variables. This is because the procedure for $(z_0, W_1, t_0)$ is identical for $(z_1, W_2, t_1)$. Once we have the gradient signal $\\nabla_{t_1}\\ell$, we're good to go.\n",
    "\n",
    "One final note is that when we have traversed all the way to the beginning of the network, we only need to find the gradient with respect to $W_0$. This will require $z_{-1}$, which is just $x$. The gradient for $x$ (the input) is not used for anything."
   ]
  },
  {
   "cell_type": "markdown",
   "id": "4e90ed07",
   "metadata": {},
   "source": [
    "### Implementing backpropagation\n",
    "\n",
    "We are now ready to fill in the TODO in the `loss_and_grad` method in `Net` above."
   ]
  },
  {
   "cell_type": "markdown",
   "id": "f867d6ea",
   "metadata": {},
   "source": [
    "```python\n",
    "        # Diff the loss w.r.t. final layer (This is nabla_{z2})\n",
    "        self.nonlinear_outputs[-1].grad = self.loss.grad(self.nonlinear_outputs[-1].data)\n",
    "        for i in range(len(self.nonlinear_outputs) - 1, -1, -1):\n",
    "            \n",
    "            # Gradient from z to t. The \"*\" below is the element-wise product\n",
    "            self.linear_outputs[i].grad = \\\n",
    "                self.activations[i].grad(self.linear_outputs[i].data) * self.nonlinear_outputs[i].grad\n",
    "            \n",
    "            # Gradient w.r.t. weights matrix. This is nabla_{W}.\n",
    "            prev_output = self.nonlinear_outputs[i-1].data if i > 0 else x\n",
    "            self.weights[i].grad = np.outer(self.linear_outputs[i].grad, prev_output)\n",
    "            \n",
    "            # Check if we have traversed to the first layer\n",
    "            if i > 0:\n",
    "                # If not at the first layer, continue finding nabla_{z}\n",
    "                self.nonlinear_outputs[i-1].grad = self.weights[i].data.T @ self.linear_outputs[i].grad\n",
    "\n",
    "        return l\n",
    "```"
   ]
  },
  {
   "cell_type": "markdown",
   "id": "7bd9c616",
   "metadata": {},
   "source": [
    "## Example\n",
    "\n",
    "Let's try an input $x$ and find the gradients of $\\ell$ with respect to the parameters. After we call `loss_and_grad`, the gradients of all eligible tensors will be stored in their `.grad` attributes."
   ]
  },
  {
   "cell_type": "code",
   "execution_count": 9,
   "id": "c21f6bff",
   "metadata": {},
   "outputs": [],
   "source": [
    "# For reducibility\n",
    "np.random.seed(100)\n",
    "class Net:\n",
    "    def __init__(self):\n",
    "        # Weight matrices. We will initialize them randomly\n",
    "        self.weights = [Tensor(np.random.randn(output_dim, input_dim))\n",
    "                        for input_dim, output_dim in [(5, 10), (10, 4), (4, 12)]]\n",
    "        \n",
    "        # Register t_0, t_1,... The default value (np.zeros) doesn't matter, as we\n",
    "        # populate them in the forward pass later.\n",
    "        self.linear_outputs = [Tensor(np.zeros(dim, dtype=float)) for dim in (10, 4, 12)]\n",
    "        \n",
    "        # Register z_0, z_1,... similarly\n",
    "        self.nonlinear_outputs = [Tensor(np.zeros(dim, dtype=float)) for dim in (10, 4, 12)]\n",
    "        \n",
    "        # Activation and loss functions\n",
    "        self.activations = [Tanh(), Sigmoid(), Identity()]\n",
    "        self.loss = HalfSumSq()\n",
    "\n",
    "    def loss_and_grad(self, x):\n",
    "        curr_output = Tensor(x)\n",
    "        # Forward prop\n",
    "        for i in range(len(self.nonlinear_outputs)):\n",
    "            # Linear transformation\n",
    "            self.linear_outputs[i].data = self.weights[i].data @ curr_output.data\n",
    "            curr_output = self.linear_outputs[i]\n",
    "            \n",
    "            # Activation function\n",
    "            self.nonlinear_outputs[i].data = self.activations[i](curr_output.data)\n",
    "            curr_output = self.nonlinear_outputs[i]\n",
    "\n",
    "        # Loss function\n",
    "        l = self.loss(curr_output.data)\n",
    "        \n",
    "        # Diff the loss w.r.t. final layer (This is nabla_{z2})\n",
    "        self.nonlinear_outputs[-1].grad = self.loss.grad(self.nonlinear_outputs[-1].data)\n",
    "        for i in range(len(self.nonlinear_outputs) - 1, -1, -1):\n",
    "            \n",
    "            # Gradient from z to t. The \"*\" below is the element-wise product\n",
    "            self.linear_outputs[i].grad = \\\n",
    "                self.activations[i].grad(self.linear_outputs[i].data) * self.nonlinear_outputs[i].grad\n",
    "            \n",
    "            # Gradient w.r.t. weights matrix. This is nabla_{W}.\n",
    "            prev_output = self.nonlinear_outputs[i-1].data if i > 0 else x\n",
    "            self.weights[i].grad = np.outer(self.linear_outputs[i].grad, prev_output)\n",
    "            \n",
    "            # Check if we have traversed to the first layer\n",
    "            if i > 0:\n",
    "                # If not at the first layer, continue finding nabla_{z}\n",
    "                self.nonlinear_outputs[i-1].grad = self.weights[i].data.T @ self.linear_outputs[i].grad\n",
    "\n",
    "        return l"
   ]
  },
  {
   "cell_type": "code",
   "execution_count": 10,
   "id": "c7a4f3ae",
   "metadata": {},
   "outputs": [
    {
     "name": "stdout",
     "output_type": "stream",
     "text": [
      "Loss = 16.967845481519063\n"
     ]
    }
   ],
   "source": [
    "np_net = Net()\n",
    "x = np.ones(5, dtype=float)\n",
    "loss = np_net.loss_and_grad(x)\n",
    "print(\"Loss =\", loss)"
   ]
  },
  {
   "cell_type": "code",
   "execution_count": 11,
   "id": "91d57cd5",
   "metadata": {
    "scrolled": false
   },
   "outputs": [
    {
     "data": {
      "text/plain": [
       "{'W0': array([[-4.72493045, -4.72493045, -4.72493045, -4.72493045, -4.72493045],\n",
       "        [-0.49064059, -0.49064059, -0.49064059, -0.49064059, -0.49064059],\n",
       "        [-3.85310994, -3.85310994, -3.85310994, -3.85310994, -3.85310994],\n",
       "        [-0.77299667, -0.77299667, -0.77299667, -0.77299667, -0.77299667],\n",
       "        [ 0.16584879,  0.16584879,  0.16584879,  0.16584879,  0.16584879],\n",
       "        [ 0.03582982,  0.03582982,  0.03582982,  0.03582982,  0.03582982],\n",
       "        [-2.16572779, -2.16572779, -2.16572779, -2.16572779, -2.16572779],\n",
       "        [ 0.01436766,  0.01436766,  0.01436766,  0.01436766,  0.01436766],\n",
       "        [-0.52930824, -0.52930824, -0.52930824, -0.52930824, -0.52930824],\n",
       "        [-0.21213714, -0.21213714, -0.21213714, -0.21213714, -0.21213714]]),\n",
       " 'W1': array([[ 1.92165826, -1.14241028,  3.07733417, -3.57220806,  4.25131518,\n",
       "          4.31193016, -1.68956596, -4.33945156, -2.07132932, -4.28869938],\n",
       "        [ 0.12498375, -0.07430183,  0.20014837, -0.23233473,  0.27650354,\n",
       "          0.28044591, -0.10988858, -0.28223589, -0.13471829, -0.27893499],\n",
       "        [ 0.46542023, -0.27668856,  0.74532169, -0.86517875,  1.02965659,\n",
       "          1.04433737, -0.40920813, -1.05100297, -0.50167014, -1.03871094],\n",
       "        [ 0.94731478, -0.56317097,  1.51702527, -1.76098194,  2.09575957,\n",
       "          2.12564078, -0.83290085, -2.13920793, -1.02109772, -2.11418876]]),\n",
       " 'W2': array([[ 0.31132526,  0.0282966 ,  0.51909291,  0.38795837],\n",
       "        [ 0.53957754,  0.04904263,  0.89967284,  0.67239526],\n",
       "        [-1.47303293, -0.13388513, -2.4560839 , -1.8356219 ],\n",
       "        [-1.24493455, -0.11315308, -2.07576059, -1.55137681],\n",
       "        [-0.08644138, -0.00785672, -0.14412935, -0.10771903],\n",
       "        [-1.0953643 , -0.09955852, -1.82637235, -1.36498964],\n",
       "        [ 0.95518834,  0.08681782,  1.59264783,  1.19030919],\n",
       "        [-0.62734321, -0.05701972, -1.04601026, -0.78176456],\n",
       "        [-1.15954071, -0.10539157, -1.93337786, -1.44496316],\n",
       "        [ 1.068047  ,  0.09707563,  1.78082444,  1.33094816],\n",
       "        [ 0.5494852 ,  0.04994314,  0.91619252,  0.6847417 ],\n",
       "        [-1.13910632, -0.10353427, -1.89930628, -1.41949882]])}"
      ]
     },
     "execution_count": 11,
     "metadata": {},
     "output_type": "execute_result"
    }
   ],
   "source": [
    "# Get the gradients for all parameters\n",
    "np_grads = {\"W\" + str(i): g.grad for i, g in enumerate(np_net.weights)}\n",
    "np_grads"
   ]
  },
  {
   "cell_type": "markdown",
   "id": "3776c86a",
   "metadata": {},
   "source": [
    "Now we are ready to take a gradient descent step!"
   ]
  },
  {
   "cell_type": "markdown",
   "id": "c2100909",
   "metadata": {},
   "source": [
    "## PyTorch version\n",
    "\n",
    "To verify that our computation is correct, let's use `autorgrad` in PyTorch and find the gradients for the parameters."
   ]
  },
  {
   "cell_type": "code",
   "execution_count": 12,
   "id": "8f36cba8",
   "metadata": {},
   "outputs": [],
   "source": [
    "pt_net = torch.nn.Sequential()\n",
    "pt_net.add_module(\"W0\", torch.nn.Linear(in_features=5, out_features=10, bias=False))\n",
    "pt_net.add_module(\"A0\", torch.nn.Tanh())\n",
    "pt_net.add_module(\"W1\", torch.nn.Linear(in_features=10, out_features=4, bias=False))\n",
    "pt_net.add_module(\"A1\", torch.nn.Sigmoid())\n",
    "pt_net.add_module(\"W2\", torch.nn.Linear(in_features=4, out_features=12, bias=False))\n",
    "pt_net.add_module(\"A2\", torch.nn.Identity())\n",
    "\n",
    "# Copy the weights in out numpy network to this new network\n",
    "for param, np_param in zip(pt_net.parameters(), np_net.weights):\n",
    "    param.data = torch.tensor(np_param.data, dtype=float)"
   ]
  },
  {
   "cell_type": "code",
   "execution_count": 13,
   "id": "e3b2587b",
   "metadata": {},
   "outputs": [
    {
     "name": "stdout",
     "output_type": "stream",
     "text": [
      "Loss = 16.967845481519063\n"
     ]
    }
   ],
   "source": [
    "x = torch.ones(5, dtype=float)\n",
    "output = pt_net(x)\n",
    "loss = 0.5 * torch.sum(output ** 2)\n",
    "print(\"Loss =\", loss.detach().item())\n",
    "loss.backward()"
   ]
  },
  {
   "cell_type": "code",
   "execution_count": 14,
   "id": "743885e9",
   "metadata": {
    "scrolled": false
   },
   "outputs": [
    {
     "data": {
      "text/plain": [
       "{'W0': array([[-4.72493045, -4.72493045, -4.72493045, -4.72493045, -4.72493045],\n",
       "        [-0.49064059, -0.49064059, -0.49064059, -0.49064059, -0.49064059],\n",
       "        [-3.85310994, -3.85310994, -3.85310994, -3.85310994, -3.85310994],\n",
       "        [-0.77299667, -0.77299667, -0.77299667, -0.77299667, -0.77299667],\n",
       "        [ 0.16584879,  0.16584879,  0.16584879,  0.16584879,  0.16584879],\n",
       "        [ 0.03582982,  0.03582982,  0.03582982,  0.03582982,  0.03582982],\n",
       "        [-2.16572779, -2.16572779, -2.16572779, -2.16572779, -2.16572779],\n",
       "        [ 0.01436766,  0.01436766,  0.01436766,  0.01436766,  0.01436766],\n",
       "        [-0.52930824, -0.52930824, -0.52930824, -0.52930824, -0.52930824],\n",
       "        [-0.21213714, -0.21213714, -0.21213714, -0.21213714, -0.21213714]]),\n",
       " 'W1': array([[ 1.92165826, -1.14241028,  3.07733417, -3.57220806,  4.25131518,\n",
       "          4.31193016, -1.68956596, -4.33945156, -2.07132932, -4.28869938],\n",
       "        [ 0.12498375, -0.07430183,  0.20014837, -0.23233473,  0.27650354,\n",
       "          0.28044591, -0.10988858, -0.28223589, -0.13471829, -0.27893499],\n",
       "        [ 0.46542023, -0.27668856,  0.74532169, -0.86517875,  1.02965659,\n",
       "          1.04433737, -0.40920813, -1.05100297, -0.50167014, -1.03871094],\n",
       "        [ 0.94731478, -0.56317097,  1.51702527, -1.76098194,  2.09575957,\n",
       "          2.12564078, -0.83290085, -2.13920793, -1.02109772, -2.11418876]]),\n",
       " 'W2': array([[ 0.31132526,  0.0282966 ,  0.51909291,  0.38795837],\n",
       "        [ 0.53957754,  0.04904263,  0.89967284,  0.67239526],\n",
       "        [-1.47303293, -0.13388513, -2.4560839 , -1.8356219 ],\n",
       "        [-1.24493455, -0.11315308, -2.07576059, -1.55137681],\n",
       "        [-0.08644138, -0.00785672, -0.14412935, -0.10771903],\n",
       "        [-1.0953643 , -0.09955852, -1.82637235, -1.36498964],\n",
       "        [ 0.95518834,  0.08681782,  1.59264783,  1.19030919],\n",
       "        [-0.62734321, -0.05701972, -1.04601026, -0.78176456],\n",
       "        [-1.15954071, -0.10539157, -1.93337786, -1.44496316],\n",
       "        [ 1.068047  ,  0.09707563,  1.78082444,  1.33094816],\n",
       "        [ 0.5494852 ,  0.04994314,  0.91619252,  0.6847417 ],\n",
       "        [-1.13910632, -0.10353427, -1.89930628, -1.41949882]])}"
      ]
     },
     "execution_count": 14,
     "metadata": {},
     "output_type": "execute_result"
    }
   ],
   "source": [
    "pt_grads = {name.split(\".\")[0]: x.grad.numpy() for name, x in pt_net.named_parameters()}\n",
    "pt_grads"
   ]
  },
  {
   "cell_type": "markdown",
   "id": "2075e938",
   "metadata": {},
   "source": [
    "## Check if gradients match"
   ]
  },
  {
   "cell_type": "code",
   "execution_count": 15,
   "id": "b48d1be8",
   "metadata": {},
   "outputs": [
    {
     "name": "stdout",
     "output_type": "stream",
     "text": [
      "W0 gradients match? True\n",
      "W1 gradients match? True\n",
      "W2 gradients match? True\n"
     ]
    }
   ],
   "source": [
    "for name in np_grads.keys():\n",
    "    assert name in pt_grads\n",
    "    print(name, \"gradients match?\", np.allclose(np_grads[name], pt_grads[name]))"
   ]
  },
  {
   "cell_type": "markdown",
   "id": "fba0f5c3",
   "metadata": {},
   "source": [
    "## Conclusion\n",
    "\n",
    "We have learned how backpropagation works in a feed-forward neural network. Here are some things you can try on your own:\n",
    "- Add more layers to the network\n",
    "- Try more activation functions, e.g., ReLU, leaky ReLU, GeLU, etc.\n",
    "- Add bias to each Linear layer and find the gradient with respect to the bias."
   ]
  }
 ],
 "metadata": {
  "kernelspec": {
   "display_name": "Python 3 (ipykernel)",
   "language": "python",
   "name": "python3"
  },
  "language_info": {
   "codemirror_mode": {
    "name": "ipython",
    "version": 3
   },
   "file_extension": ".py",
   "mimetype": "text/x-python",
   "name": "python",
   "nbconvert_exporter": "python",
   "pygments_lexer": "ipython3",
   "version": "3.9.13"
  }
 },
 "nbformat": 4,
 "nbformat_minor": 5
}
